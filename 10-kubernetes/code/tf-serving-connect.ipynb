{
 "cells": [
  {
   "cell_type": "code",
   "execution_count": 1,
   "id": "7a5e8837",
   "metadata": {},
   "outputs": [
    {
     "data": {
      "application/javascript": [
       "IPython.notebook.set_autosave_interval(0)"
      ]
     },
     "metadata": {},
     "output_type": "display_data"
    },
    {
     "name": "stdout",
     "output_type": "stream",
     "text": [
      "Autosave disabled\n"
     ]
    }
   ],
   "source": [
    "%autosave 0"
   ]
  },
  {
   "cell_type": "code",
   "execution_count": 2,
   "id": "1588cca2",
   "metadata": {},
   "outputs": [],
   "source": [
    "# !pip install grpcio==1.42.0 tensorflow-serving-api==2.7.0"
   ]
  },
  {
   "cell_type": "code",
   "execution_count": 3,
   "id": "6e4788a2",
   "metadata": {},
   "outputs": [],
   "source": [
    "# !pip install keras-image-helper"
   ]
  },
  {
   "cell_type": "code",
   "execution_count": 4,
   "id": "78a456a7",
   "metadata": {},
   "outputs": [],
   "source": [
    "import grpc\n",
    "\n",
    "import tensorflow as tf\n",
    "\n",
    "from tensorflow_serving.apis import predict_pb2\n",
    "from tensorflow_serving.apis import prediction_service_pb2_grpc"
   ]
  },
  {
   "cell_type": "code",
   "execution_count": 5,
   "id": "b3ebc761-0667-4b6b-bbc9-6d30c9de81d4",
   "metadata": {},
   "outputs": [],
   "source": [
    "from keras_image_helper import create_preprocessor"
   ]
  },
  {
   "cell_type": "code",
   "execution_count": 6,
   "id": "186d90c2-1698-41cf-a873-c495c3f34964",
   "metadata": {},
   "outputs": [],
   "source": [
    "def np_to_protobuf(data):\n",
    "    return tf.make_tensor_proto(data, shape=data.shape)"
   ]
  },
  {
   "cell_type": "code",
   "execution_count": 7,
   "id": "e09c215c",
   "metadata": {},
   "outputs": [],
   "source": [
    "host = 'localhost:8500'\n",
    "\n",
    "channel = grpc.insecure_channel(host)\n",
    "\n",
    "stub = prediction_service_pb2_grpc.PredictionServiceStub(channel)"
   ]
  },
  {
   "cell_type": "code",
   "execution_count": 8,
   "id": "c77766e1",
   "metadata": {},
   "outputs": [],
   "source": [
    "preprocessor = create_preprocessor('xception', target_size=(299, 299))"
   ]
  },
  {
   "cell_type": "code",
   "execution_count": 9,
   "id": "cb1ef40d-c9e4-4d1a-adbe-7c42d54e5c3c",
   "metadata": {},
   "outputs": [],
   "source": [
    "# !wget http://bit.ly/mlbookcamp-pants -O pants.jpg"
   ]
  },
  {
   "cell_type": "code",
   "execution_count": 10,
   "id": "aa686a62",
   "metadata": {},
   "outputs": [],
   "source": [
    "url = 'http://bit.ly/mlbookcamp-pants'\n",
    "X = preprocessor.from_url(url)"
   ]
  },
  {
   "cell_type": "code",
   "execution_count": 11,
   "id": "3659a577",
   "metadata": {},
   "outputs": [],
   "source": [
    "pb_request = predict_pb2.PredictRequest()\n",
    "\n",
    "pb_request.model_spec.name = 'clothing-model'\n",
    "pb_request.model_spec.signature_name = 'serving_default'\n",
    "\n",
    "pb_request.inputs['input_8'].CopyFrom(np_to_protobuf(X))"
   ]
  },
  {
   "cell_type": "code",
   "execution_count": 12,
   "id": "5a6838a1-48f8-4801-a292-404f73a92363",
   "metadata": {},
   "outputs": [
    {
     "name": "stdout",
     "output_type": "stream",
     "text": [
      " Volume in drive C has no label.\n",
      " Volume Serial Number is BCC0-49D8\n",
      "\n",
      " Directory of C:\\Users\\KonuTech\\ml-zoomcamp\\machine-learning-zoomcamp\\10-kubernetes\\code\n",
      "\n",
      "03.12.2023  13:16    <DIR>          .\n",
      "03.12.2023  13:16    <DIR>          ..\n",
      "02.12.2023  11:40    <DIR>          .ipynb_checkpoints\n",
      "03.12.2023  13:13    <DIR>          clothing-model\n",
      "07.12.2021  13:41        86˙185˙888 clothing-model.h5\n",
      "17.09.2023  17:17               234 docker-compose.yaml\n",
      "17.09.2023  17:17             1˙807 gateway.py\n",
      "17.09.2023  17:17               268 image-gateway.dockerfile\n",
      "17.09.2023  17:17               110 image-model.dockerfile\n",
      "17.09.2023  17:17    <DIR>          kube-config\n",
      "03.12.2023  12:57            23˙048 pants.jpg\n",
      "17.09.2023  17:17    <DIR>          ping\n",
      "17.09.2023  17:17               258 Pipfile\n",
      "17.09.2023  17:17            23˙839 Pipfile.lock\n",
      "17.09.2023  17:17             2˙110 plan.md\n",
      "17.09.2023  17:17               785 proto.py\n",
      "17.09.2023  17:17             2˙009 README.md\n",
      "17.09.2023  17:17               172 test.py\n",
      "03.12.2023  13:16             6˙311 tf-serving-connect.ipynb\n",
      "              13 File(s)     86˙246˙839 bytes\n",
      "               6 Dir(s)  54˙075˙826˙176 bytes free\n"
     ]
    }
   ],
   "source": [
    "ls"
   ]
  },
  {
   "cell_type": "code",
   "execution_count": 13,
   "id": "6823df3d",
   "metadata": {},
   "outputs": [],
   "source": [
    "pb_response = stub.Predict(pb_request, timeout=20.0)"
   ]
  },
  {
   "cell_type": "code",
   "execution_count": 14,
   "id": "f0dece29",
   "metadata": {},
   "outputs": [],
   "source": [
    "preds = pb_response.outputs['dense_7'].float_val"
   ]
  },
  {
   "cell_type": "code",
   "execution_count": 15,
   "id": "f5b392f3",
   "metadata": {},
   "outputs": [],
   "source": [
    "classes = [\n",
    "    'dress',\n",
    "    'hat',\n",
    "    'longsleeve',\n",
    "    'outwear',\n",
    "    'pants',\n",
    "    'shirt',\n",
    "    'shoes',\n",
    "    'shorts',\n",
    "    'skirt',\n",
    "    't-shirt'\n",
    "]"
   ]
  },
  {
   "cell_type": "code",
   "execution_count": 16,
   "id": "a77fb533",
   "metadata": {},
   "outputs": [
    {
     "data": {
      "text/plain": [
       "{'dress': -1.8798640966415405,\n",
       " 'hat': -4.756312370300293,\n",
       " 'longsleeve': -2.3595328330993652,\n",
       " 'outwear': -1.0892646312713623,\n",
       " 'pants': 9.90378475189209,\n",
       " 'shirt': -2.826181173324585,\n",
       " 'shoes': -3.6483113765716553,\n",
       " 'shorts': 3.2411553859710693,\n",
       " 'skirt': -2.612095355987549,\n",
       " 't-shirt': -4.852035999298096}"
      ]
     },
     "execution_count": 16,
     "metadata": {},
     "output_type": "execute_result"
    }
   ],
   "source": [
    "dict(zip(classes, preds))"
   ]
  },
  {
   "cell_type": "code",
   "execution_count": null,
   "id": "588ccdc9",
   "metadata": {},
   "outputs": [],
   "source": []
  }
 ],
 "metadata": {
  "kernelspec": {
   "display_name": "Python 3 (ipykernel)",
   "language": "python",
   "name": "python3"
  },
  "language_info": {
   "codemirror_mode": {
    "name": "ipython",
    "version": 3
   },
   "file_extension": ".py",
   "mimetype": "text/x-python",
   "name": "python",
   "nbconvert_exporter": "python",
   "pygments_lexer": "ipython3",
   "version": "3.9.3"
  }
 },
 "nbformat": 4,
 "nbformat_minor": 5
}
